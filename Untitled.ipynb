{
 "cells": [
  {
   "cell_type": "code",
   "execution_count": 44,
   "id": "aab00e9d",
   "metadata": {},
   "outputs": [
    {
     "name": "stdout",
     "output_type": "stream",
     "text": [
      "16:24 PM\n"
     ]
    }
   ],
   "source": [
    "from datetime import datetime\n",
    "\n",
    "print(datetime.today().strftime(\"%H:%M %p\"))"
   ]
  },
  {
   "cell_type": "code",
   "execution_count": 42,
   "id": "2816723d",
   "metadata": {},
   "outputs": [],
   "source": [
    "date='date'\n",
    "dfg=str(date)+':' + str(time)"
   ]
  },
  {
   "cell_type": "code",
   "execution_count": 37,
   "id": "47171a18",
   "metadata": {},
   "outputs": [
    {
     "name": "stdout",
     "output_type": "stream",
     "text": [
      "date:2021-08-01 15:52:22.889536\n"
     ]
    }
   ],
   "source": [
    "print(dfg)"
   ]
  },
  {
   "cell_type": "code",
   "execution_count": null,
   "id": "8c293be4",
   "metadata": {},
   "outputs": [],
   "source": []
  }
 ],
 "metadata": {
  "kernelspec": {
   "display_name": "Python 3",
   "language": "python",
   "name": "python3"
  },
  "language_info": {
   "codemirror_mode": {
    "name": "ipython",
    "version": 3
   },
   "file_extension": ".py",
   "mimetype": "text/x-python",
   "name": "python",
   "nbconvert_exporter": "python",
   "pygments_lexer": "ipython3",
   "version": "3.8.8"
  }
 },
 "nbformat": 4,
 "nbformat_minor": 5
}
